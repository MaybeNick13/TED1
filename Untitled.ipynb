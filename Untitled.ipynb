{
 "cells": [
  {
   "cell_type": "code",
   "execution_count": 1,
   "id": "b6607064",
   "metadata": {},
   "outputs": [],
   "source": [
    "import pandas as pd\n",
    "from sklearn.impute import SimpleImputer\n",
    "\n",
    "# Read in the CSV file\n",
    "data = pd.read_csv('marketing_campaign.csv')\n",
    "\n",
    "# Check for missing values\n",
    "if data.isnull().values.any():\n",
    "    # If there are missing values, fill them in with the median value of each column\n",
    "    imputer = SimpleImputer(strategy='median')\n",
    "    data = pd.DataFrame(imputer.fit_transform(data), columns=data.columns)\n",
    "\n",
    "# Convert date columns to DateTime objects\n",
    "    data['Dt_Customer'] = pd.to_datetime(data[col],dayfirst=True)\n",
    "\n",
    "# Check for object columns that can be converted to numerical values\n",
    "for col in data.select_dtypes(include='object').columns:\n",
    "    try:\n",
    "        data[col] = pd.to_numeric(data[col])\n",
    "    except ValueError:\n",
    "        pass # column contains non-numeric values\n",
    "\n",
    "# Do whatever else you need to do with the cleaned data...\n"
   ]
  },
  {
   "cell_type": "code",
   "execution_count": null,
   "id": "84305093",
   "metadata": {},
   "outputs": [],
   "source": []
  }
 ],
 "metadata": {
  "kernelspec": {
   "display_name": "Python 3",
   "language": "python",
   "name": "python3"
  },
  "language_info": {
   "codemirror_mode": {
    "name": "ipython",
    "version": 3
   },
   "file_extension": ".py",
   "mimetype": "text/x-python",
   "name": "python",
   "nbconvert_exporter": "python",
   "pygments_lexer": "ipython3",
   "version": "3.6.9"
  }
 },
 "nbformat": 4,
 "nbformat_minor": 5
}
