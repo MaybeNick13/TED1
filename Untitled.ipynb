{
 "cells": [
  {
   "cell_type": "code",
   "execution_count": 1,
   "id": "b6607064",
   "metadata": {
    "scrolled": true
   },
   "outputs": [
    {
     "name": "stdout",
     "output_type": "stream",
     "text": [
      "<class 'pandas.core.frame.DataFrame'>\n",
      "RangeIndex: 2240 entries, 0 to 2239\n",
      "Data columns (total 36 columns):\n",
      " #   Column               Non-Null Count  Dtype  \n",
      "---  ------               --------------  -----  \n",
      " 0   ID                   2240 non-null   int64  \n",
      " 1   Year_Birth           2240 non-null   int64  \n",
      " 2   Education            2240 non-null   object \n",
      " 3   Marital_Status       2240 non-null   object \n",
      " 4   Income               2240 non-null   float64\n",
      " 5   Kidhome              2240 non-null   int64  \n",
      " 6   Teenhome             2240 non-null   int64  \n",
      " 7   Dt_Customer          2240 non-null   object \n",
      " 8   Recency              2240 non-null   int64  \n",
      " 9   MntWines             2240 non-null   int64  \n",
      " 10  MntFruits            2240 non-null   int64  \n",
      " 11  MntMeatProducts      2240 non-null   int64  \n",
      " 12  MntFishProducts      2240 non-null   int64  \n",
      " 13  MntSweetProducts     2240 non-null   int64  \n",
      " 14  MntGoldProds         2240 non-null   int64  \n",
      " 15  NumDealsPurchases    2240 non-null   int64  \n",
      " 16  NumWebPurchases      2240 non-null   int64  \n",
      " 17  NumCatalogPurchases  2240 non-null   int64  \n",
      " 18  NumStorePurchases    2240 non-null   int64  \n",
      " 19  NumWebVisitsMonth    2240 non-null   int64  \n",
      " 20  AcceptedCmp3         2240 non-null   int64  \n",
      " 21  AcceptedCmp4         2240 non-null   int64  \n",
      " 22  AcceptedCmp5         2240 non-null   int64  \n",
      " 23  AcceptedCmp1         2240 non-null   int64  \n",
      " 24  AcceptedCmp2         2240 non-null   int64  \n",
      " 25  Complain             2240 non-null   int64  \n",
      " 26  Z_CostContact        2240 non-null   int64  \n",
      " 27  Z_Revenue            2240 non-null   int64  \n",
      " 28  Response             2240 non-null   int64  \n",
      " 29  days_since_customer  2240 non-null   int64  \n",
      " 30  Age                  2240 non-null   int64  \n",
      " 31  Spent                2240 non-null   int64  \n",
      " 32  Παιδια               2240 non-null   int64  \n",
      " 33  Family Size          2240 non-null   int64  \n",
      " 34  Is_Parent            2240 non-null   object \n",
      " 35  Living_With          2240 non-null   object \n",
      "dtypes: float64(1), int64(30), object(5)\n",
      "memory usage: 630.1+ KB\n"
     ]
    }
   ],
   "source": [
    "import pandas as pd\n",
    "from sklearn.impute import SimpleImputer\n",
    "\n",
    "data = pd.read_csv('marketing_campaign.csv',delimiter=',',header=0)\n",
    "data.info()\n",
    "\n",
    "# Check for missing values\n",
    "if data.isnull().values.any():\n",
    "    # If there are missing values, fill them in with the most frequent value of each column\n",
    "    imputer = SimpleImputer(strategy='most_frequent')\n",
    "    data = pd.DataFrame(imputer.fit_transform(data), columns=data.columns)\n",
    "\n",
    "\n",
    "# Convert date columns to DateTime objects\n",
    "data['Dt_Customer'] = pd.to_datetime(data['Dt_Customer'])\n",
    "\n",
    "# Check for object columns that can be converted to numerical values\n",
    "for col in data.select_dtypes(include='object').columns:\n",
    "    try:\n",
    "        data[col] = pd.to_numeric(data[col])\n",
    "    except ValueError:\n",
    "        pass # column contains non-numeric values\n",
    "\n",
    "data.to_csv('marketing_campaign.csv', index=False)\n",
    "\n",
    "\n"
   ]
  },
  {
   "cell_type": "code",
   "execution_count": 2,
   "id": "84305093",
   "metadata": {
    "scrolled": true
   },
   "outputs": [
    {
     "name": "stdout",
     "output_type": "stream",
     "text": [
      "<class 'pandas.core.frame.DataFrame'>\n",
      "RangeIndex: 2240 entries, 0 to 2239\n",
      "Data columns (total 36 columns):\n",
      " #   Column               Non-Null Count  Dtype         \n",
      "---  ------               --------------  -----         \n",
      " 0   ID                   2240 non-null   int64         \n",
      " 1   Year_Birth           2240 non-null   int64         \n",
      " 2   Education            2240 non-null   object        \n",
      " 3   Marital_Status       2240 non-null   object        \n",
      " 4   Income               2240 non-null   float64       \n",
      " 5   Kidhome              2240 non-null   int64         \n",
      " 6   Teenhome             2240 non-null   int64         \n",
      " 7   Dt_Customer          2240 non-null   datetime64[ns]\n",
      " 8   Recency              2240 non-null   int64         \n",
      " 9   MntWines             2240 non-null   int64         \n",
      " 10  MntFruits            2240 non-null   int64         \n",
      " 11  MntMeatProducts      2240 non-null   int64         \n",
      " 12  MntFishProducts      2240 non-null   int64         \n",
      " 13  MntSweetProducts     2240 non-null   int64         \n",
      " 14  MntGoldProds         2240 non-null   int64         \n",
      " 15  NumDealsPurchases    2240 non-null   int64         \n",
      " 16  NumWebPurchases      2240 non-null   int64         \n",
      " 17  NumCatalogPurchases  2240 non-null   int64         \n",
      " 18  NumStorePurchases    2240 non-null   int64         \n",
      " 19  NumWebVisitsMonth    2240 non-null   int64         \n",
      " 20  AcceptedCmp3         2240 non-null   int64         \n",
      " 21  AcceptedCmp4         2240 non-null   int64         \n",
      " 22  AcceptedCmp5         2240 non-null   int64         \n",
      " 23  AcceptedCmp1         2240 non-null   int64         \n",
      " 24  AcceptedCmp2         2240 non-null   int64         \n",
      " 25  Complain             2240 non-null   int64         \n",
      " 26  Z_CostContact        2240 non-null   int64         \n",
      " 27  Z_Revenue            2240 non-null   int64         \n",
      " 28  Response             2240 non-null   int64         \n",
      " 29  days_since_customer  2240 non-null   int64         \n",
      " 30  Age                  2240 non-null   int64         \n",
      " 31  Spent                2240 non-null   int64         \n",
      " 32  Παιδια               2240 non-null   int64         \n",
      " 33  Family Size          2240 non-null   int64         \n",
      " 34  Is_Parent            2240 non-null   object        \n",
      " 35  Living_With          2240 non-null   object        \n",
      "dtypes: datetime64[ns](1), float64(1), int64(30), object(4)\n",
      "memory usage: 630.1+ KB\n"
     ]
    }
   ],
   "source": [
    "import pandas as pd\n",
    "data = pd.read_csv('marketing_campaign.csv', delimiter=',',header=0)\n",
    "data['Dt_Customer'] = pd.to_datetime(data['Dt_Customer'])\n",
    "\n",
    "\n",
    "\n",
    "# Create new column for number of days between 'tDt_Customer' and current date\n",
    "data['days_since_customer'] = (pd.to_datetime('today') - data['Dt_Customer']).dt.days\n",
    "\n",
    "# Subtract 'tRecency' from 'tdays_since_dastomer'\n",
    "data['days_since_customer'] = data['days_since_customer'] - data['Recency']\n",
    "\n",
    "data['Age'] = 2023 - data['Year_Birth'].astype(int)\n",
    "\n",
    "data['Spent'] = data['MntWines']+data['MntFruits'] + data['MntMeatProducts']+data['MntFishProducts'] + data['MntSweetProducts'] + data['MntGoldProds']\n",
    "\n",
    "data['Παιδια']= data['Kidhome']+ data['Teenhome']\n",
    "\n",
    "\n",
    "together_mask = data['Marital_Status'].str.lower() == 'together'\n",
    "data['Family Size'] = 1 + data['Kidhome']\n",
    "data.loc[together_mask, 'Family Size'] += 1\n",
    "\n",
    "data['Is_Parent'] = data['Παιδια'].apply(lambda x: 'Yes' if x > 0 else 'No')\n",
    "\n",
    "data['Living_With'] = data['Marital_Status'].apply(lambda x: 'Partner' if x.lower() == 'together' else 'Alone')\n",
    "data.to_csv('marketing_campaign.csv', index=False)\n",
    "data.info()"
   ]
  },
  {
   "cell_type": "code",
   "execution_count": null,
   "id": "61a17043",
   "metadata": {},
   "outputs": [],
   "source": []
  },
  {
   "cell_type": "code",
   "execution_count": 3,
   "id": "b0fb39ad",
   "metadata": {
    "scrolled": true
   },
   "outputs": [
    {
     "name": "stdout",
     "output_type": "stream",
     "text": [
      "<class 'pandas.core.frame.DataFrame'>\n",
      "RangeIndex: 2240 entries, 0 to 2239\n",
      "Data columns (total 36 columns):\n",
      " #   Column               Non-Null Count  Dtype  \n",
      "---  ------               --------------  -----  \n",
      " 0   ID                   2240 non-null   int64  \n",
      " 1   Year_Birth           2240 non-null   int64  \n",
      " 2   Education            2240 non-null   object \n",
      " 3   Marital_Status       2240 non-null   object \n",
      " 4   Income               2240 non-null   float64\n",
      " 5   Kidhome              2240 non-null   int64  \n",
      " 6   Teenhome             2240 non-null   int64  \n",
      " 7   Dt_Customer          2240 non-null   object \n",
      " 8   Recency              2240 non-null   int64  \n",
      " 9   MntWines             2240 non-null   int64  \n",
      " 10  MntFruits            2240 non-null   int64  \n",
      " 11  MntMeatProducts      2240 non-null   int64  \n",
      " 12  MntFishProducts      2240 non-null   int64  \n",
      " 13  MntSweetProducts     2240 non-null   int64  \n",
      " 14  MntGoldProds         2240 non-null   int64  \n",
      " 15  NumDealsPurchases    2240 non-null   int64  \n",
      " 16  NumWebPurchases      2240 non-null   int64  \n",
      " 17  NumCatalogPurchases  2240 non-null   int64  \n",
      " 18  NumStorePurchases    2240 non-null   int64  \n",
      " 19  NumWebVisitsMonth    2240 non-null   int64  \n",
      " 20  AcceptedCmp3         2240 non-null   int64  \n",
      " 21  AcceptedCmp4         2240 non-null   int64  \n",
      " 22  AcceptedCmp5         2240 non-null   int64  \n",
      " 23  AcceptedCmp1         2240 non-null   int64  \n",
      " 24  AcceptedCmp2         2240 non-null   int64  \n",
      " 25  Complain             2240 non-null   int64  \n",
      " 26  Z_CostContact        2240 non-null   int64  \n",
      " 27  Z_Revenue            2240 non-null   int64  \n",
      " 28  Response             2240 non-null   int64  \n",
      " 29  days_since_customer  2240 non-null   int64  \n",
      " 30  Age                  2240 non-null   int64  \n",
      " 31  Spent                2240 non-null   int64  \n",
      " 32  Παιδια               2240 non-null   int64  \n",
      " 33  Family Size          2240 non-null   int64  \n",
      " 34  Is_Parent            2240 non-null   object \n",
      " 35  Living_With          2240 non-null   object \n",
      "dtypes: float64(1), int64(30), object(5)\n",
      "memory usage: 630.1+ KB\n"
     ]
    }
   ],
   "source": [
    "import pandas as pd\n",
    "data = pd.read_csv('marketing_campaign.csv', delimiter=',', header=0)\n",
    "data.info()\n",
    "\n",
    "\n"
   ]
  },
  {
   "cell_type": "code",
   "execution_count": 5,
   "id": "de0952af",
   "metadata": {},
   "outputs": [
    {
     "data": {
      "text/plain": [
       "<AxesSubplot:>"
      ]
     },
     "execution_count": 5,
     "metadata": {},
     "output_type": "execute_result"
    },
    {
     "data": {
      "image/png": "[encoded data removed]",
      "text/plain": [
       "<Figure size 432x288 with 2 Axes>"
      ]
     },
     "metadata": {
      "needs_background": "light"
     },
     "output_type": "display_data"
    }
   ],
   "source": [
    "import pandas as pd\n",
    "import seaborn as sns\n",
    "\n",
    "# Read the CSV file\n",
    "data = pd.read_csv('marketing_campaign.csv')\n",
    "\n",
    "# Select numerical columns\n",
    "heat = data.select_dtypes(include=['int64', 'float64'])\n",
    "\n",
    "# Drop the 'ID' column\n",
    "heat = heat.drop(columns=['ID'])\n",
    "\n",
    "# Create a heatmap using seaborn\n",
    "sns.heatmap(heat.corr())\n"
   ]
  },
  {
   "cell_type": "code",
   "execution_count": null,
   "id": "742b9189",
   "metadata": {},
   "outputs": [],
   "source": []
  },
  {
   "cell_type": "code",
   "execution_count": null,
   "id": "aed0e915",
   "metadata": {},
   "outputs": [],
   "source": []
  }
 ],
 "metadata": {
  "kernelspec": {
   "display_name": "Python 3",
   "language": "python",
   "name": "python3"
  },
  "language_info": {
   "codemirror_mode": {
    "name": "ipython",
    "version": 3
   },
   "file_extension": ".py",
   "mimetype": "text/x-python",
   "name": "python",
   "nbconvert_exporter": "python",
   "pygments_lexer": "ipython3",
   "version": "3.6.9"
  }
 },
 "nbformat": 4,
 "nbformat_minor": 5
}
